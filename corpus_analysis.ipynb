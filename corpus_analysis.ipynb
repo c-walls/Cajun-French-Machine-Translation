{
 "cells": [
  {
   "cell_type": "code",
   "execution_count": 1,
   "metadata": {},
   "outputs": [],
   "source": [
    "import translators as ts\n",
    "import pandas as pd\n",
    "import matplotlib.pyplot as plt\n",
    "from tqdm import tqdm"
   ]
  },
  {
   "cell_type": "markdown",
   "metadata": {},
   "source": [
    "#### TO-DO ####\n",
    "1) Add Similarity Metrics: Levenshtein Distance and cosine_similarity_tf-idf / cosine similarity with the embeddings I plan to use"
   ]
  },
  {
   "cell_type": "code",
   "execution_count": 3,
   "metadata": {},
   "outputs": [
    {
     "data": {
      "text/html": [
       "<style type=\"text/css\">\n",
       "</style>\n",
       "<table id=\"T_f7a44\">\n",
       "  <thead>\n",
       "    <tr>\n",
       "      <th id=\"T_f7a44_level0_col0\" class=\"col_heading level0 col0\" >Cajun_French</th>\n",
       "      <th id=\"T_f7a44_level0_col1\" class=\"col_heading level0 col1\" >English</th>\n",
       "    </tr>\n",
       "  </thead>\n",
       "  <tbody>\n",
       "    <tr>\n",
       "      <td id=\"T_f7a44_row0_col0\" class=\"data row0 col0\" >Allons boire un coup</td>\n",
       "      <td id=\"T_f7a44_row0_col1\" class=\"data row0 col1\" >Let’s go have a drink</td>\n",
       "    </tr>\n",
       "    <tr>\n",
       "      <td id=\"T_f7a44_row1_col0\" class=\"data row1 col0\" >Oh, mes amis</td>\n",
       "      <td id=\"T_f7a44_row1_col1\" class=\"data row1 col1\" >Oh, my friends</td>\n",
       "    </tr>\n",
       "    <tr>\n",
       "      <td id=\"T_f7a44_row2_col0\" class=\"data row2 col0\" >Allons tous boire un coup</td>\n",
       "      <td id=\"T_f7a44_row2_col1\" class=\"data row2 col1\" >Let’s all go have a drink</td>\n",
       "    </tr>\n",
       "    <tr>\n",
       "      <td id=\"T_f7a44_row3_col0\" class=\"data row3 col0\" >Vingt-cinq sous la demi</td>\n",
       "      <td id=\"T_f7a44_row3_col1\" class=\"data row3 col1\" >Twenty–five cents for a half quart</td>\n",
       "    </tr>\n",
       "    <tr>\n",
       "      <td id=\"T_f7a44_row4_col0\" class=\"data row4 col0\" >Cinquante sous le quart</td>\n",
       "      <td id=\"T_f7a44_row4_col1\" class=\"data row4 col1\" >Fifty cents for a quart</td>\n",
       "    </tr>\n",
       "    <tr>\n",
       "      <td id=\"T_f7a44_row5_col0\" class=\"data row5 col0\" >Un piaster et demi paye le demi-gallon</td>\n",
       "      <td id=\"T_f7a44_row5_col1\" class=\"data row5 col1\" >One dollar fifty pays for a half gallon</td>\n",
       "    </tr>\n",
       "    <tr>\n",
       "      <td id=\"T_f7a44_row6_col0\" class=\"data row6 col0\" >Oh mes amis, chers</td>\n",
       "      <td id=\"T_f7a44_row6_col1\" class=\"data row6 col1\" >Oh, my dear friends</td>\n",
       "    </tr>\n",
       "    <tr>\n",
       "      <td id=\"T_f7a44_row7_col0\" class=\"data row7 col0\" >Ça coute rien du tout</td>\n",
       "      <td id=\"T_f7a44_row7_col1\" class=\"data row7 col1\" >It costs nothing at all</td>\n",
       "    </tr>\n",
       "    <tr>\n",
       "      <td id=\"T_f7a44_row8_col0\" class=\"data row8 col0\" >Oh, moi, je m’en fou pas mal</td>\n",
       "      <td id=\"T_f7a44_row8_col1\" class=\"data row8 col1\" >Oh, I don’t care</td>\n",
       "    </tr>\n",
       "    <tr>\n",
       "      <td id=\"T_f7a44_row9_col0\" class=\"data row9 col0\" >allons boire un ‘tit coup quand même</td>\n",
       "      <td id=\"T_f7a44_row9_col1\" class=\"data row9 col1\" >let’s go drink anyway!</td>\n",
       "    </tr>\n",
       "  </tbody>\n",
       "</table>\n"
      ],
      "text/plain": [
       "<pandas.io.formats.style.Styler at 0x1b88cbebb50>"
      ]
     },
     "execution_count": 3,
     "metadata": {},
     "output_type": "execute_result"
    }
   ],
   "source": [
    "df = pd.read_csv('Parallel Training Corpus (Sample).csv', encoding='cp1252', header=None)\n",
    "df.columns = ['Cajun_French', 'English']\n",
    "df.head(10).style.hide(axis='index')"
   ]
  },
  {
   "cell_type": "code",
   "execution_count": 4,
   "metadata": {},
   "outputs": [
    {
     "name": "stdout",
     "output_type": "stream",
     "text": [
      "Total invalid characters in 'English' column: 0\n",
      "Total invalid characters in 'Cajun_French' column: 0\n"
     ]
    },
    {
     "data": {
      "text/html": [
       "<style type=\"text/css\">\n",
       "</style>\n",
       "<table id=\"T_df6df\">\n",
       "  <thead>\n",
       "    <tr>\n",
       "      <th id=\"T_df6df_level0_col0\" class=\"col_heading level0 col0\" >Cajun_French</th>\n",
       "      <th id=\"T_df6df_level0_col1\" class=\"col_heading level0 col1\" >English</th>\n",
       "    </tr>\n",
       "  </thead>\n",
       "  <tbody>\n",
       "    <tr>\n",
       "      <td id=\"T_df6df_row0_col0\" class=\"data row0 col0\" >Hey Bébé</td>\n",
       "      <td id=\"T_df6df_row0_col1\" class=\"data row0 col1\" >Hey Baby,</td>\n",
       "    </tr>\n",
       "    <tr>\n",
       "      <td id=\"T_df6df_row1_col0\" class=\"data row1 col0\" >Moi jai pleuré</td>\n",
       "      <td id=\"T_df6df_row1_col1\" class=\"data row1 col1\" >Me, I cried</td>\n",
       "    </tr>\n",
       "    <tr>\n",
       "      <td id=\"T_df6df_row2_col0\" class=\"data row2 col0\" >Mon, j’ai jonglé</td>\n",
       "      <td id=\"T_df6df_row2_col1\" class=\"data row2 col1\" >Me, I thought</td>\n",
       "    </tr>\n",
       "    <tr>\n",
       "      <td id=\"T_df6df_row3_col0\" class=\"data row3 col0\" >Mon, j’suis gone,</td>\n",
       "      <td id=\"T_df6df_row3_col1\" class=\"data row3 col1\" >I’m gone away</td>\n",
       "    </tr>\n",
       "    <tr>\n",
       "      <td id=\"T_df6df_row4_col0\" class=\"data row4 col0\" >Ça fait de la peine pour moi!</td>\n",
       "      <td id=\"T_df6df_row4_col1\" class=\"data row4 col1\" >That hurts me!</td>\n",
       "    </tr>\n",
       "  </tbody>\n",
       "</table>\n"
      ],
      "text/plain": [
       "<pandas.io.formats.style.Styler at 0x1b88b424f40>"
      ]
     },
     "execution_count": 4,
     "metadata": {},
     "output_type": "execute_result"
    }
   ],
   "source": [
    "# Function to check for invalid characters\n",
    "def count_invalid_characters(text):\n",
    "    return sum(1 for char in text if not char.isprintable())\n",
    "\n",
    "# Iterate over each row in the DataFrame\n",
    "eng_invalid_count = 0\n",
    "cfr_invalid_count = 0\n",
    "for index, row in df.iterrows():\n",
    "    eng_invalid_count += count_invalid_characters(row['English'])\n",
    "    cfr_invalid_count += count_invalid_characters(row['Cajun_French'])\n",
    "    if eng_invalid_count > 0 or cfr_invalid_count > 0:\n",
    "        print(f\"Row {index} contains invalid characters\")\n",
    "\n",
    "print(f\"Total invalid characters in 'English' column: {eng_invalid_count}\")\n",
    "print(f\"Total invalid characters in 'Cajun_French' column: {cfr_invalid_count}\")\n",
    "df.sort_values(by='English', key=lambda x: x.str.len()).head().style.hide(axis='index')"
   ]
  },
  {
   "cell_type": "code",
   "execution_count": 5,
   "metadata": {},
   "outputs": [
    {
     "name": "stdout",
     "output_type": "stream",
     "text": [
      "Total characters in English: 6487\n",
      "Total characters in Cajun French: 7184\n"
     ]
    },
    {
     "data": {
      "text/html": [
       "<style type=\"text/css\">\n",
       "</style>\n",
       "<table id=\"T_e75d9\">\n",
       "  <thead>\n",
       "    <tr>\n",
       "      <th id=\"T_e75d9_level0_col0\" class=\"col_heading level0 col0\" >Cajun_French</th>\n",
       "      <th id=\"T_e75d9_level0_col1\" class=\"col_heading level0 col1\" >English</th>\n",
       "    </tr>\n",
       "  </thead>\n",
       "  <tbody>\n",
       "    <tr>\n",
       "      <td id=\"T_e75d9_row0_col0\" class=\"data row0 col0\" >Si que tu te maries avec une villaine fille t’es dans le grand danger faudra tu vies ta vie avec</td>\n",
       "      <td id=\"T_e75d9_row0_col1\" class=\"data row0 col1\" >If you marry an ugly girl, you’re in big trouble- you have to life your life with her.</td>\n",
       "    </tr>\n",
       "    <tr>\n",
       "      <td id=\"T_e75d9_row1_col0\" class=\"data row1 col0\" >Elle me reponde, “Mon neg, c’est pour ça je querelle parce que je te vois tout les temps parti”</td>\n",
       "      <td id=\"T_e75d9_row1_col1\" class=\"data row1 col1\" >She answers, “It’s for this that I’m always arguing because I see you’re always gone.”</td>\n",
       "    </tr>\n",
       "    <tr>\n",
       "      <td id=\"T_e75d9_row2_col0\" class=\"data row2 col0\" >Quoi c’est tu veux je te cuis, ouais, mon bon vieux mari, qui est le meilleur buveur du pays?</td>\n",
       "      <td id=\"T_e75d9_row2_col1\" class=\"data row2 col1\" >What do you want me to cook you, my good old husband, who is the best drinker in the land?</td>\n",
       "    </tr>\n",
       "    <tr>\n",
       "      <td id=\"T_e75d9_row3_col0\" class=\"data row3 col0\" >Uh... Laisses-mon voir: cinque douzaines d’oufs, un demi-gallon de couche couche, et deux livres du pain perdu.</td>\n",
       "      <td id=\"T_e75d9_row3_col1\" class=\"data row3 col1\" >Uh, let me see. 5 dozen eggs, a half gallon of couche couche, and two pounds of pain perdu.</td>\n",
       "    </tr>\n",
       "    <tr>\n",
       "      <td id=\"T_e75d9_row4_col0\" class=\"data row4 col0\" >Mais enterres-mon dans le coin de la court et de temps en temps passes-moi une ‘tite bouteille de whiskey pour boire avec le vieux diable.</td>\n",
       "      <td id=\"T_e75d9_row4_col1\" class=\"data row4 col1\" >Bury me in the corner of the yard and every now and then pass me a little bottle of whiskey to drink with the old devil.</td>\n",
       "    </tr>\n",
       "  </tbody>\n",
       "</table>\n"
      ],
      "text/plain": [
       "<pandas.io.formats.style.Styler at 0x1b88cbeb670>"
      ]
     },
     "execution_count": 5,
     "metadata": {},
     "output_type": "execute_result"
    }
   ],
   "source": [
    "total_chars_english = df['English'].str.len().sum()\n",
    "total_chars_cajun_french = df['Cajun_French'].str.len().sum()\n",
    "\n",
    "print(f'Total characters in English: {total_chars_english}')\n",
    "print(f'Total characters in Cajun French: {total_chars_cajun_french}')\n",
    "df.sort_values(by='English', key=lambda x: x.str.len()).tail().style.hide(axis='index')"
   ]
  },
  {
   "cell_type": "code",
   "execution_count": 6,
   "metadata": {},
   "outputs": [
    {
     "data": {
      "image/png": "[encoded data removed]",
      "text/plain": [
       "<Figure size 1000x500 with 2 Axes>"
      ]
     },
     "metadata": {},
     "output_type": "display_data"
    }
   ],
   "source": [
    "plt.figure(figsize=(10, 5))\n",
    "\n",
    "plt.subplot(1, 2, 1)\n",
    "plt.hist(df['English'].str.len(), bins=20, color='#2266BB', alpha=0.6)\n",
    "plt.title('Histogram: Lengths of English Phrases')\n",
    "plt.xlabel('Length')\n",
    "plt.ylabel('Frequency')\n",
    "\n",
    "plt.subplot(1, 2, 2)\n",
    "plt.hist(df['Cajun_French'].str.len(), bins=20, color='#226611', alpha=0.6)\n",
    "plt.title('Histogram: Lengths of Cajun French Phrases')\n",
    "plt.xlabel('Length')\n",
    "plt.ylabel('Frequency')\n",
    "\n",
    "plt.tight_layout()\n",
    "plt.show()"
   ]
  },
  {
   "cell_type": "code",
   "execution_count": 7,
   "metadata": {},
   "outputs": [
    {
     "name": "stderr",
     "output_type": "stream",
     "text": [
      "100%|██████████| 157/157 [03:08<00:00,  1.20s/it]\n",
      "100%|██████████| 157/157 [02:40<00:00,  1.02s/it]\n"
     ]
    }
   ],
   "source": [
    "def standard_french_translation(text):\n",
    "    return ts.translate_text(text, translator='google', to_language='fr', from_language='en')\n",
    "\n",
    "def attempt_english_translation(text):\n",
    "    return ts.translate_text(text, translator='google', to_language='en', from_language='fr')\n",
    "\n",
    "tqdm.pandas()\n",
    "df['Standard_French'] = df['English'].progress_apply(standard_french_translation)\n",
    "df['Translated_English'] = df['Cajun_French'].progress_apply(attempt_english_translation)"
   ]
  },
  {
   "cell_type": "code",
   "execution_count": 9,
   "metadata": {},
   "outputs": [
    {
     "data": {
      "text/html": [
       "<style type=\"text/css\">\n",
       "</style>\n",
       "<table id=\"T_3b197\">\n",
       "  <thead>\n",
       "    <tr>\n",
       "      <th id=\"T_3b197_level0_col0\" class=\"col_heading level0 col0\" >Cajun_French</th>\n",
       "      <th id=\"T_3b197_level0_col1\" class=\"col_heading level0 col1\" >English</th>\n",
       "      <th id=\"T_3b197_level0_col2\" class=\"col_heading level0 col2\" >Standard_French</th>\n",
       "      <th id=\"T_3b197_level0_col3\" class=\"col_heading level0 col3\" >Translated_English</th>\n",
       "    </tr>\n",
       "  </thead>\n",
       "  <tbody>\n",
       "    <tr>\n",
       "      <td id=\"T_3b197_row0_col0\" class=\"data row0 col0\" >Pour paraître la plus belle aux yeux des marriés</td>\n",
       "      <td id=\"T_3b197_row0_col1\" class=\"data row0 col1\" >To seem the most beautiful to the young married ones.</td>\n",
       "      <td id=\"T_3b197_row0_col2\" class=\"data row0 col2\" >Pour sembler les plus beaux aux jeunes mariés.</td>\n",
       "      <td id=\"T_3b197_row0_col3\" class=\"data row0 col3\" >To appear the most beautiful in the eyes of the bride and groom</td>\n",
       "    </tr>\n",
       "    <tr>\n",
       "      <td id=\"T_3b197_row1_col0\" class=\"data row1 col0\" >J’vas boire ca proche toute ma vie</td>\n",
       "      <td id=\"T_3b197_row1_col1\" class=\"data row1 col1\" >I’m going to drink almost all of my life</td>\n",
       "      <td id=\"T_3b197_row1_col2\" class=\"data row1 col2\" >Je vais boire presque toute ma vie</td>\n",
       "      <td id=\"T_3b197_row1_col3\" class=\"data row1 col3\" >I live to drink it close to my whole life</td>\n",
       "    </tr>\n",
       "    <tr>\n",
       "      <td id=\"T_3b197_row2_col0\" class=\"data row2 col0\" >Whiskey c’est mon ami.</td>\n",
       "      <td id=\"T_3b197_row2_col1\" class=\"data row2 col1\" >Whiskey is my friend</td>\n",
       "      <td id=\"T_3b197_row2_col2\" class=\"data row2 col2\" >Le whisky est mon ami</td>\n",
       "      <td id=\"T_3b197_row2_col3\" class=\"data row2 col3\" >Whiskey is my friend.</td>\n",
       "    </tr>\n",
       "    <tr>\n",
       "      <td id=\"T_3b197_row3_col0\" class=\"data row3 col0\" >Ça vaut les difficultés souvent elles ne les ont pas.</td>\n",
       "      <td id=\"T_3b197_row3_col1\" class=\"data row3 col1\" >It’s worth the troubles they often don’t have.</td>\n",
       "      <td id=\"T_3b197_row3_col2\" class=\"data row3 col2\" >Cela vaut les problèmes qu'ils n'ont souvent pas.</td>\n",
       "      <td id=\"T_3b197_row3_col3\" class=\"data row3 col3\" >It is worth the difficulties often they do not have them.</td>\n",
       "    </tr>\n",
       "    <tr>\n",
       "      <td id=\"T_3b197_row4_col0\" class=\"data row4 col0\" >Tu ne sauras jamais.</td>\n",
       "      <td id=\"T_3b197_row4_col1\" class=\"data row4 col1\" >You’ll never know.</td>\n",
       "      <td id=\"T_3b197_row4_col2\" class=\"data row4 col2\" >Vous ne le saurez jamais.</td>\n",
       "      <td id=\"T_3b197_row4_col3\" class=\"data row4 col3\" >You will never know.</td>\n",
       "    </tr>\n",
       "    <tr>\n",
       "      <td id=\"T_3b197_row5_col0\" class=\"data row5 col0\" >Mais chère , j’suis parti au bar. Mon, j’vas me saouler.</td>\n",
       "      <td id=\"T_3b197_row5_col1\" class=\"data row5 col1\" >Well dear, I’m gone to the bar. I’m going to get drunk.</td>\n",
       "      <td id=\"T_3b197_row5_col2\" class=\"data row5 col2\" >Eh bien mon cher, je suis allé au bar. Je vais me saouler.</td>\n",
       "      <td id=\"T_3b197_row5_col3\" class=\"data row5 col3\" >But dear, I went to the bar. My, I’m going to get drunk.</td>\n",
       "    </tr>\n",
       "    <tr>\n",
       "      <td id=\"T_3b197_row6_col0\" class=\"data row6 col0\" >Hey, chère, Aujourd’hui J’suis condamné à rouler</td>\n",
       "      <td id=\"T_3b197_row6_col1\" class=\"data row6 col1\" >Hey, dear, Today I’m condemned to ramble</td>\n",
       "      <td id=\"T_3b197_row6_col2\" class=\"data row6 col2\" >Hé, mon cher, aujourd'hui, je suis condamné à la divagation</td>\n",
       "      <td id=\"T_3b197_row6_col3\" class=\"data row6 col3\" >Hey, dear, today I am condemned to ride</td>\n",
       "    </tr>\n",
       "    <tr>\n",
       "      <td id=\"T_3b197_row7_col0\" class=\"data row7 col0\" >Ayoù ‘ce-que t’es parti, ouais, mon bon vieux mari, qui est le meilleur buveur du pays?</td>\n",
       "      <td id=\"T_3b197_row7_col1\" class=\"data row7 col1\" >Where have you gone my good old husband, who is the best drinker in the land?</td>\n",
       "      <td id=\"T_3b197_row7_col2\" class=\"data row7 col2\" >Où êtes-vous allé mon bon vieux mari, qui est le meilleur buveur du pays?</td>\n",
       "      <td id=\"T_3b197_row7_col3\" class=\"data row7 col3\" >Ayoù ‘This you left, yeah, my good old husband, who is the best drinker in the country?</td>\n",
       "    </tr>\n",
       "    <tr>\n",
       "      <td id=\"T_3b197_row8_col0\" class=\"data row8 col0\" >Et ma femme m’a toujours dit de plus boire ce bon vieux whiskey.</td>\n",
       "      <td id=\"T_3b197_row8_col1\" class=\"data row8 col1\" >And my wife is always telling me to stop</td>\n",
       "      <td id=\"T_3b197_row8_col2\" class=\"data row8 col2\" >Et ma femme me dit toujours d'arrêter</td>\n",
       "      <td id=\"T_3b197_row8_col3\" class=\"data row8 col3\" >And my wife has always told me about this good old whiskey.</td>\n",
       "    </tr>\n",
       "    <tr>\n",
       "      <td id=\"T_3b197_row9_col0\" class=\"data row9 col0\" >Si que tu te maries avec une fille bien pauvre t’es dans le grand danger faudra tu travailler toute ta vie</td>\n",
       "      <td id=\"T_3b197_row9_col1\" class=\"data row9 col1\" >If you marry a poor girl, you’re in big trouble- you’ll have to work all your life.</td>\n",
       "      <td id=\"T_3b197_row9_col2\" class=\"data row9 col2\" >Si vous épousez une pauvre fille, vous avez de gros ennuis - vous devrez travailler toute votre vie.</td>\n",
       "      <td id=\"T_3b197_row9_col3\" class=\"data row9 col3\" >If you are married to a very poor girl you are in the great danger you will have to work all your life</td>\n",
       "    </tr>\n",
       "  </tbody>\n",
       "</table>\n"
      ],
      "text/plain": [
       "<pandas.io.formats.style.Styler at 0x1b888390700>"
      ]
     },
     "execution_count": 9,
     "metadata": {},
     "output_type": "execute_result"
    }
   ],
   "source": [
    "df.sample(10).style.hide(axis='index')"
   ]
  }
 ],
 "metadata": {
  "kernelspec": {
   "display_name": "NLP",
   "language": "python",
   "name": "python3"
  },
  "language_info": {
   "codemirror_mode": {
    "name": "ipython",
    "version": 3
   },
   "file_extension": ".py",
   "mimetype": "text/x-python",
   "name": "python",
   "nbconvert_exporter": "python",
   "pygments_lexer": "ipython3",
   "version": "3.10.15"
  }
 },
 "nbformat": 4,
 "nbformat_minor": 2
}
