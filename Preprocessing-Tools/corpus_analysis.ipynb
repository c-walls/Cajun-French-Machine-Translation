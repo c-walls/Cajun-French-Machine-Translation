{
 "cells": [
  {
   "cell_type": "code",
   "execution_count": 2,
   "metadata": {},
   "outputs": [],
   "source": [
    "import json\n",
    "import translators as ts\n",
    "import pandas as pd\n",
    "import matplotlib.pyplot as plt\n",
    "from tqdm import tqdm"
   ]
  },
  {
   "cell_type": "markdown",
   "metadata": {},
   "source": [
    "#### TO-DO ####\n",
    "1) Add Similarity Metrics: Levenshtein Distance and cosine_similarity_tf-idf / cosine similarity with the embeddings I plan to use"
   ]
  },
  {
   "cell_type": "code",
   "execution_count": 12,
   "metadata": {},
   "outputs": [
    {
     "name": "stdout",
     "output_type": "stream",
     "text": [
      "Corpus Length: 11096\n"
     ]
    },
    {
     "data": {
      "text/html": [
       "<style type=\"text/css\">\n",
       "</style>\n",
       "<table id=\"T_9c959\">\n",
       "  <thead>\n",
       "    <tr>\n",
       "      <th id=\"T_9c959_level0_col0\" class=\"col_heading level0 col0\" >English</th>\n",
       "      <th id=\"T_9c959_level0_col1\" class=\"col_heading level0 col1\" >Cajun French</th>\n",
       "    </tr>\n",
       "  </thead>\n",
       "  <tbody>\n",
       "    <tr>\n",
       "      <td id=\"T_9c959_row0_col0\" class=\"data row0 col0\" >They are heathens. They don’t go to church.</td>\n",
       "      <td id=\"T_9c959_row0_col1\" class=\"data row0 col1\" >C’est du monde païen. Eusse va pas à l’église.</td>\n",
       "    </tr>\n",
       "    <tr>\n",
       "      <td id=\"T_9c959_row1_col0\" class=\"data row1 col0\" >I found out afterward that Henri had been sent to France, to a place called Belle Ile.</td>\n",
       "      <td id=\"T_9c959_row1_col1\" class=\"data row1 col1\" >J’ai su par après que Henri avait été renvoyé en France, à une place nommée Belle Ile.</td>\n",
       "    </tr>\n",
       "    <tr>\n",
       "      <td id=\"T_9c959_row2_col0\" class=\"data row2 col0\" >When we moved back to the city.</td>\n",
       "      <td id=\"T_9c959_row2_col1\" class=\"data row2 col1\" >Quand on a déménagé back au village.</td>\n",
       "    </tr>\n",
       "    <tr>\n",
       "      <td id=\"T_9c959_row3_col0\" class=\"data row3 col0\" >We go to the swimming pool.</td>\n",
       "      <td id=\"T_9c959_row3_col1\" class=\"data row3 col1\" >On va au swimming pool.</td>\n",
       "    </tr>\n",
       "    <tr>\n",
       "      <td id=\"T_9c959_row4_col0\" class=\"data row4 col0\" >There was a line of people at the movies.</td>\n",
       "      <td id=\"T_9c959_row4_col1\" class=\"data row4 col1\" >Il y avait une file de monde au PICTURE SHOW.</td>\n",
       "    </tr>\n",
       "    <tr>\n",
       "      <td id=\"T_9c959_row5_col0\" class=\"data row5 col0\" >He found himself at the other end of the lake without a paddle for his boat.</td>\n",
       "      <td id=\"T_9c959_row5_col1\" class=\"data row5 col1\" >Il s’a trouvé à l’autre bout du lac sans pagaille pour son bateau.</td>\n",
       "    </tr>\n",
       "    <tr>\n",
       "      <td id=\"T_9c959_row6_col0\" class=\"data row6 col0\" >I went to spend a week at their home.</td>\n",
       "      <td id=\"T_9c959_row6_col1\" class=\"data row6 col1\" >J’ai été passer une semaine à leur maison.</td>\n",
       "    </tr>\n",
       "    <tr>\n",
       "      <td id=\"T_9c959_row7_col0\" class=\"data row7 col0\" >Plowing in the middle of the field.</td>\n",
       "      <td id=\"T_9c959_row7_col1\" class=\"data row7 col1\" >Labourer au milieu du clos.</td>\n",
       "    </tr>\n",
       "    <tr>\n",
       "      <td id=\"T_9c959_row8_col0\" class=\"data row8 col0\" >His birthday that they celebrated, that was in the park on the other side.</td>\n",
       "      <td id=\"T_9c959_row8_col1\" class=\"data row8 col1\" >Sa fête qu’eusse avait fêté, là-bas c’est au parc l’autre bord.</td>\n",
       "    </tr>\n",
       "    <tr>\n",
       "      <td id=\"T_9c959_row9_col0\" class=\"data row9 col0\" >I don’t go to the events in Eunice very often.</td>\n",
       "      <td id=\"T_9c959_row9_col1\" class=\"data row9 col1\" >Je fréquente pas assez souvent les affaires à Eunice.</td>\n",
       "    </tr>\n",
       "  </tbody>\n",
       "</table>\n"
      ],
      "text/plain": [
       "<pandas.io.formats.style.Styler at 0x23629f7f760>"
      ]
     },
     "execution_count": 12,
     "metadata": {},
     "output_type": "execute_result"
    }
   ],
   "source": [
    "with open('Data/corpus.json', 'r', encoding='utf-8') as file:\n",
    "    corpus_data = json.load(file)\n",
    "\n",
    "data = corpus_data['data']\n",
    "df = pd.DataFrame(data)\n",
    "\n",
    "print(f\"Corpus Length: {len(df)}\")\n",
    "df.head(10).style.hide(axis='index')"
   ]
  },
  {
   "cell_type": "code",
   "execution_count": 15,
   "metadata": {},
   "outputs": [
    {
     "name": "stdout",
     "output_type": "stream",
     "text": [
      "Total invalid characters in 'English' column: 0\n",
      "Total invalid characters in 'Cajun French' column: 0\n"
     ]
    },
    {
     "data": {
      "text/html": [
       "<style type=\"text/css\">\n",
       "</style>\n",
       "<table id=\"T_fd5f8\">\n",
       "  <thead>\n",
       "    <tr>\n",
       "      <th id=\"T_fd5f8_level0_col0\" class=\"col_heading level0 col0\" >English</th>\n",
       "      <th id=\"T_fd5f8_level0_col1\" class=\"col_heading level0 col1\" >Cajun French</th>\n",
       "    </tr>\n",
       "  </thead>\n",
       "  <tbody>\n",
       "    <tr>\n",
       "      <td id=\"T_fd5f8_row0_col0\" class=\"data row0 col0\" >Beg!</td>\n",
       "      <td id=\"T_fd5f8_row0_col1\" class=\"data row0 col1\" >Fais belle!</td>\n",
       "    </tr>\n",
       "    <tr>\n",
       "      <td id=\"T_fd5f8_row1_col0\" class=\"data row1 col0\" >Fool.</td>\n",
       "      <td id=\"T_fd5f8_row1_col1\" class=\"data row1 col1\" >Espèce de fou.</td>\n",
       "    </tr>\n",
       "    <tr>\n",
       "      <td id=\"T_fd5f8_row2_col0\" class=\"data row2 col0\" >Idiot!</td>\n",
       "      <td id=\"T_fd5f8_row2_col1\" class=\"data row2 col1\" >Espèce de tchu.</td>\n",
       "    </tr>\n",
       "    <tr>\n",
       "      <td id=\"T_fd5f8_row3_col0\" class=\"data row3 col0\" >And so!</td>\n",
       "      <td id=\"T_fd5f8_row3_col1\" class=\"data row3 col1\" >Ben là!</td>\n",
       "    </tr>\n",
       "    <tr>\n",
       "      <td id=\"T_fd5f8_row4_col0\" class=\"data row4 col0\" >Enough!</td>\n",
       "      <td id=\"T_fd5f8_row4_col1\" class=\"data row4 col1\" >Assez!</td>\n",
       "    </tr>\n",
       "  </tbody>\n",
       "</table>\n"
      ],
      "text/plain": [
       "<pandas.io.formats.style.Styler at 0x23628c31d80>"
      ]
     },
     "execution_count": 15,
     "metadata": {},
     "output_type": "execute_result"
    }
   ],
   "source": [
    "# Function to check for invalid characters\n",
    "def count_invalid_characters(text):\n",
    "    return sum(1 for char in text if not char.isprintable())\n",
    "\n",
    "# Iterate over each row in the DataFrame\n",
    "eng_invalid_count = 0\n",
    "cfr_invalid_count = 0\n",
    "for index, row in df.iterrows():\n",
    "    eng_invalid_count += count_invalid_characters(row['English'])\n",
    "    cfr_invalid_count += count_invalid_characters(row['Cajun French'])\n",
    "    if eng_invalid_count > 0 or cfr_invalid_count > 0:\n",
    "        print(f\"Row {index} contains invalid characters\")\n",
    "\n",
    "print(f\"Total invalid characters in 'English' column: {eng_invalid_count}\")\n",
    "print(f\"Total invalid characters in 'Cajun French' column: {cfr_invalid_count}\")\n",
    "\n",
    "# Sort by length of 'English' column\n",
    "df.sort_values(by='English', key=lambda x: x.str.len()).head().style.hide(axis='index')"
   ]
  },
  {
   "cell_type": "code",
   "execution_count": 21,
   "metadata": {},
   "outputs": [
    {
     "name": "stdout",
     "output_type": "stream",
     "text": [
      "Total characters in English: 590477\n",
      "Total characters in Cajun French: 638752\n"
     ]
    },
    {
     "data": {
      "text/html": [
       "<style type=\"text/css\">\n",
       "</style>\n",
       "<table id=\"T_293ab\">\n",
       "  <thead>\n",
       "    <tr>\n",
       "      <th id=\"T_293ab_level0_col0\" class=\"col_heading level0 col0\" >English</th>\n",
       "      <th id=\"T_293ab_level0_col1\" class=\"col_heading level0 col1\" >Cajun French</th>\n",
       "    </tr>\n",
       "  </thead>\n",
       "  <tbody>\n",
       "    <tr>\n",
       "      <td id=\"T_293ab_row0_col0\" class=\"data row0 col0\" >For many families who were more and more isolated within an a English-dominated society, the ability to hear his stories over the radio offered a sort of catharsis as children, parents, and grandparents continued to listen to a man a who understood their culture and who was clearly proud of it.</td>\n",
       "      <td id=\"T_293ab_row0_col1\" class=\"data row0 col1\" >Pour de nombreuses familles de plus en plus isolées au sein d’une société dominée par l’anglais, la possibilité d’entendre ses histoires à la radio offrait une sorte de catharsis car les enfants, les parents et les grands-parents continuaient d’écouter un homme qui comprenait leur culture et qui en était clairement fier.</td>\n",
       "    </tr>\n",
       "    <tr>\n",
       "      <td id=\"T_293ab_row1_col0\" class=\"data row1 col0\" >He himself did not speak English until he went to school at the age of six because, even though French was the language of his community, the state constitution of 1921 mandated that all courses be taught in English, effectively relegating French to the status of a “foreign” language in the schools.</td>\n",
       "      <td id=\"T_293ab_row1_col1\" class=\"data row1 col1\" >Lui-même ne parlait pas l’anglais avant d’aller à l’école à l’âge de six ans car, même si le français était la langue de sa communauté, la Constitution de l’État de 1921 exigeait que tous les cours soient donnés en anglais, reléguant de fait le français au statut de langue «étrangère» dans les écoles.</td>\n",
       "    </tr>\n",
       "    <tr>\n",
       "      <td id=\"T_293ab_row2_col0\" class=\"data row2 col0\" >She began to bounce back and said that my Hasitall and my cough syrup made her feel so good and that she has so much energy and is so active she can climb to the top of a honey locust tree with no shirt on and catch a raccoon and shove one under each arm and climb down the honey locust without a scratch.</td>\n",
       "      <td id=\"T_293ab_row2_col1\" class=\"data row2 col1\" >Alle a commencé à prendre plume et a dit que mon Hasitall et mon sirop de toux y a fait tellement du bien jusqu’à présent alle a tellement de l’énergie et alle est tellement actif qu’a peut grimper à la tête d’un garofier à sans chemise et attraper un chaoui et en fourrer un dessous chaque bras et descendre de le garofer à sans une grafignure.</td>\n",
       "    </tr>\n",
       "    <tr>\n",
       "      <td id=\"T_293ab_row3_col0\" class=\"data row3 col0\" >They gave me a plow, a disk plow, a double harrow, a Jig Whiz [saw], a planter, shoes for all my children, a scrawny possum, turnips, a corset for my wife, a toothbrush, a set of false teeth, a clothesline, a pack of gum, forty cents in change, and a sack with two ends, with a tomcat on one side and pair of andirons on the other.</td>\n",
       "      <td id=\"T_293ab_row3_col1\" class=\"data row3 col1\" >I m’avaient donné une charrue, un disque, une herse double, un djigouise, un planteur, des souliers pour tous mes petits, | un rat de bois maigre, des navéts, un corset pour ma femme, une brosse à dents, un râtelier, une corde à linge, un paquet de gomme, quarante sous en argent et un sac à deux boutes avec un matou d’un côté et une paire de chenets l’autre bord.</td>\n",
       "    </tr>\n",
       "    <tr>\n",
       "      <td id=\"T_293ab_row4_col0\" class=\"data row4 col0\" >When I was young my mother would scare us in the evening so we would stay around the house. She told us that there was a man who changed into a werewolf. This guy, every night he kissed his wife, he said he was going to drink beer or go to the cafe or somewhere, and halfway there he changed into a werewolf and then came to scare people.</td>\n",
       "      <td id=\"T_293ab_row4_col1\" class=\"data row4 col1\" >Louisiana folklore Quand j’étais tout petit ma mère nous faisait peur le soir pour qu’on reste autour de la maison. Alle nous disait que ÿ avait un homme qui tournait rougarou. Et cet individu, tous les soirs, il embrassait sa femme, il disait qu’il allait boire de la bière ou aller au café ou quelque place, et là à moitié route il tournait rougarou puis là il venait faire peur à tout le monde.</td>\n",
       "    </tr>\n",
       "  </tbody>\n",
       "</table>\n"
      ],
      "text/plain": [
       "<pandas.io.formats.style.Styler at 0x2362ef17d60>"
      ]
     },
     "execution_count": 21,
     "metadata": {},
     "output_type": "execute_result"
    }
   ],
   "source": [
    "total_chars_english = df['English'].str.len().sum()\n",
    "total_chars_cajun_french = df['Cajun French'].str.len().sum()\n",
    "\n",
    "print(f'Total characters in English: {total_chars_english}')\n",
    "print(f'Total characters in Cajun French: {total_chars_cajun_french}')\n",
    "\n",
    "df.sort_values(by='English', key=lambda x: x.str.len()).tail().style.hide(axis='index')"
   ]
  },
  {
   "cell_type": "code",
   "execution_count": 19,
   "metadata": {},
   "outputs": [
    {
     "data": {
      "image/png": "[encoded data removed]",
      "text/plain": [
       "<Figure size 1000x500 with 2 Axes>"
      ]
     },
     "metadata": {},
     "output_type": "display_data"
    }
   ],
   "source": [
    "plt.figure(figsize=(10, 5))\n",
    "\n",
    "plt.subplot(1, 2, 1)\n",
    "plt.hist(df['English'].str.len(), bins=20, color='#2266BB', alpha=0.6)\n",
    "plt.title('Histogram: Lengths of English Phrases')\n",
    "plt.xlabel('Length')\n",
    "plt.ylabel('Frequency')\n",
    "\n",
    "plt.subplot(1, 2, 2)\n",
    "plt.hist(df['Cajun French'].str.len(), bins=20, color='#226611', alpha=0.6)\n",
    "plt.title('Histogram: Lengths of Cajun French Phrases')\n",
    "plt.xlabel('Length')\n",
    "plt.ylabel('Frequency')\n",
    "\n",
    "plt.tight_layout()\n",
    "plt.show()"
   ]
  },
  {
   "cell_type": "code",
   "execution_count": 7,
   "metadata": {},
   "outputs": [
    {
     "name": "stderr",
     "output_type": "stream",
     "text": [
      "100%|██████████| 157/157 [03:08<00:00,  1.20s/it]\n",
      "100%|██████████| 157/157 [02:40<00:00,  1.02s/it]\n"
     ]
    }
   ],
   "source": [
    "def standard_french_translation(text):\n",
    "    return ts.translate_text(text, translator='google', to_language='fr', from_language='en')\n",
    "\n",
    "def attempt_english_translation(text):\n",
    "    return ts.translate_text(text, translator='google', to_language='en', from_language='fr')\n",
    "\n",
    "tqdm.pandas()\n",
    "df['Standard_French'] = df['English'].progress_apply(standard_french_translation)\n",
    "df['Translated_English'] = df['Cajun_French'].progress_apply(attempt_english_translation)"
   ]
  },
  {
   "cell_type": "code",
   "execution_count": 9,
   "metadata": {},
   "outputs": [
    {
     "data": {
      "text/html": [
       "<style type=\"text/css\">\n",
       "</style>\n",
       "<table id=\"T_3b197\">\n",
       "  <thead>\n",
       "    <tr>\n",
       "      <th id=\"T_3b197_level0_col0\" class=\"col_heading level0 col0\" >Cajun_French</th>\n",
       "      <th id=\"T_3b197_level0_col1\" class=\"col_heading level0 col1\" >English</th>\n",
       "      <th id=\"T_3b197_level0_col2\" class=\"col_heading level0 col2\" >Standard_French</th>\n",
       "      <th id=\"T_3b197_level0_col3\" class=\"col_heading level0 col3\" >Translated_English</th>\n",
       "    </tr>\n",
       "  </thead>\n",
       "  <tbody>\n",
       "    <tr>\n",
       "      <td id=\"T_3b197_row0_col0\" class=\"data row0 col0\" >Pour paraître la plus belle aux yeux des marriés</td>\n",
       "      <td id=\"T_3b197_row0_col1\" class=\"data row0 col1\" >To seem the most beautiful to the young married ones.</td>\n",
       "      <td id=\"T_3b197_row0_col2\" class=\"data row0 col2\" >Pour sembler les plus beaux aux jeunes mariés.</td>\n",
       "      <td id=\"T_3b197_row0_col3\" class=\"data row0 col3\" >To appear the most beautiful in the eyes of the bride and groom</td>\n",
       "    </tr>\n",
       "    <tr>\n",
       "      <td id=\"T_3b197_row1_col0\" class=\"data row1 col0\" >J’vas boire ca proche toute ma vie</td>\n",
       "      <td id=\"T_3b197_row1_col1\" class=\"data row1 col1\" >I’m going to drink almost all of my life</td>\n",
       "      <td id=\"T_3b197_row1_col2\" class=\"data row1 col2\" >Je vais boire presque toute ma vie</td>\n",
       "      <td id=\"T_3b197_row1_col3\" class=\"data row1 col3\" >I live to drink it close to my whole life</td>\n",
       "    </tr>\n",
       "    <tr>\n",
       "      <td id=\"T_3b197_row2_col0\" class=\"data row2 col0\" >Whiskey c’est mon ami.</td>\n",
       "      <td id=\"T_3b197_row2_col1\" class=\"data row2 col1\" >Whiskey is my friend</td>\n",
       "      <td id=\"T_3b197_row2_col2\" class=\"data row2 col2\" >Le whisky est mon ami</td>\n",
       "      <td id=\"T_3b197_row2_col3\" class=\"data row2 col3\" >Whiskey is my friend.</td>\n",
       "    </tr>\n",
       "    <tr>\n",
       "      <td id=\"T_3b197_row3_col0\" class=\"data row3 col0\" >Ça vaut les difficultés souvent elles ne les ont pas.</td>\n",
       "      <td id=\"T_3b197_row3_col1\" class=\"data row3 col1\" >It’s worth the troubles they often don’t have.</td>\n",
       "      <td id=\"T_3b197_row3_col2\" class=\"data row3 col2\" >Cela vaut les problèmes qu'ils n'ont souvent pas.</td>\n",
       "      <td id=\"T_3b197_row3_col3\" class=\"data row3 col3\" >It is worth the difficulties often they do not have them.</td>\n",
       "    </tr>\n",
       "    <tr>\n",
       "      <td id=\"T_3b197_row4_col0\" class=\"data row4 col0\" >Tu ne sauras jamais.</td>\n",
       "      <td id=\"T_3b197_row4_col1\" class=\"data row4 col1\" >You’ll never know.</td>\n",
       "      <td id=\"T_3b197_row4_col2\" class=\"data row4 col2\" >Vous ne le saurez jamais.</td>\n",
       "      <td id=\"T_3b197_row4_col3\" class=\"data row4 col3\" >You will never know.</td>\n",
       "    </tr>\n",
       "    <tr>\n",
       "      <td id=\"T_3b197_row5_col0\" class=\"data row5 col0\" >Mais chère , j’suis parti au bar. Mon, j’vas me saouler.</td>\n",
       "      <td id=\"T_3b197_row5_col1\" class=\"data row5 col1\" >Well dear, I’m gone to the bar. I’m going to get drunk.</td>\n",
       "      <td id=\"T_3b197_row5_col2\" class=\"data row5 col2\" >Eh bien mon cher, je suis allé au bar. Je vais me saouler.</td>\n",
       "      <td id=\"T_3b197_row5_col3\" class=\"data row5 col3\" >But dear, I went to the bar. My, I’m going to get drunk.</td>\n",
       "    </tr>\n",
       "    <tr>\n",
       "      <td id=\"T_3b197_row6_col0\" class=\"data row6 col0\" >Hey, chère, Aujourd’hui J’suis condamné à rouler</td>\n",
       "      <td id=\"T_3b197_row6_col1\" class=\"data row6 col1\" >Hey, dear, Today I’m condemned to ramble</td>\n",
       "      <td id=\"T_3b197_row6_col2\" class=\"data row6 col2\" >Hé, mon cher, aujourd'hui, je suis condamné à la divagation</td>\n",
       "      <td id=\"T_3b197_row6_col3\" class=\"data row6 col3\" >Hey, dear, today I am condemned to ride</td>\n",
       "    </tr>\n",
       "    <tr>\n",
       "      <td id=\"T_3b197_row7_col0\" class=\"data row7 col0\" >Ayoù ‘ce-que t’es parti, ouais, mon bon vieux mari, qui est le meilleur buveur du pays?</td>\n",
       "      <td id=\"T_3b197_row7_col1\" class=\"data row7 col1\" >Where have you gone my good old husband, who is the best drinker in the land?</td>\n",
       "      <td id=\"T_3b197_row7_col2\" class=\"data row7 col2\" >Où êtes-vous allé mon bon vieux mari, qui est le meilleur buveur du pays?</td>\n",
       "      <td id=\"T_3b197_row7_col3\" class=\"data row7 col3\" >Ayoù ‘This you left, yeah, my good old husband, who is the best drinker in the country?</td>\n",
       "    </tr>\n",
       "    <tr>\n",
       "      <td id=\"T_3b197_row8_col0\" class=\"data row8 col0\" >Et ma femme m’a toujours dit de plus boire ce bon vieux whiskey.</td>\n",
       "      <td id=\"T_3b197_row8_col1\" class=\"data row8 col1\" >And my wife is always telling me to stop</td>\n",
       "      <td id=\"T_3b197_row8_col2\" class=\"data row8 col2\" >Et ma femme me dit toujours d'arrêter</td>\n",
       "      <td id=\"T_3b197_row8_col3\" class=\"data row8 col3\" >And my wife has always told me about this good old whiskey.</td>\n",
       "    </tr>\n",
       "    <tr>\n",
       "      <td id=\"T_3b197_row9_col0\" class=\"data row9 col0\" >Si que tu te maries avec une fille bien pauvre t’es dans le grand danger faudra tu travailler toute ta vie</td>\n",
       "      <td id=\"T_3b197_row9_col1\" class=\"data row9 col1\" >If you marry a poor girl, you’re in big trouble- you’ll have to work all your life.</td>\n",
       "      <td id=\"T_3b197_row9_col2\" class=\"data row9 col2\" >Si vous épousez une pauvre fille, vous avez de gros ennuis - vous devrez travailler toute votre vie.</td>\n",
       "      <td id=\"T_3b197_row9_col3\" class=\"data row9 col3\" >If you are married to a very poor girl you are in the great danger you will have to work all your life</td>\n",
       "    </tr>\n",
       "  </tbody>\n",
       "</table>\n"
      ],
      "text/plain": [
       "<pandas.io.formats.style.Styler at 0x1b888390700>"
      ]
     },
     "execution_count": 9,
     "metadata": {},
     "output_type": "execute_result"
    }
   ],
   "source": [
    "df.sample(10).style.hide(axis='index')"
   ]
  }
 ],
 "metadata": {
  "kernelspec": {
   "display_name": "NLP",
   "language": "python",
   "name": "python3"
  },
  "language_info": {
   "codemirror_mode": {
    "name": "ipython",
    "version": 3
   },
   "file_extension": ".py",
   "mimetype": "text/x-python",
   "name": "python",
   "nbconvert_exporter": "python",
   "pygments_lexer": "ipython3",
   "version": "3.10.15"
  }
 },
 "nbformat": 4,
 "nbformat_minor": 2
}
